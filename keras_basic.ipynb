{
 "cells": [
  {
   "cell_type": "markdown",
   "metadata": {},
   "source": [
    " <h2>Life cycle of models in keras:</h2>\n",
    "\n",
    "<img src=\"img/life_cycle.jpg\">"
   ]
  },
  {
   "cell_type": "markdown",
   "metadata": {},
   "source": [
    "<h1>Step 1: Define the network</h1>\n",
    "<p>Neural networks are defined in Keras as a sequence of layers</p>\n",
    "\n",
    "\n",
    "<h6> Keras layers: </h6>\n",
    "    \n",
    "   <p> Layers can be thought of as the building blocks of a Neural Network.\n",
    "    They process the input data and produce different outputs, depending on the type of layer, which are then used by the layers which are connected to them. \n",
    "</p>\n",
    "<p>Keras provides a number of core layers which include</p>\n",
    "<ul>\n",
    "    <li>Dense layers, also called fully connected layer, since, each node in the input is connected to every node in the output</li>\n",
    "    <li>Activation layer which includes activation functions like ReLU, tanh, sigmoid among others</li>\n",
    "    <li>Dropout layer – used for regularization during training</li>\n",
    "    <li>Flatten, Reshape, etc.</li>\n",
    "</ul>        \n",
    "\n",
    "\n",
    "\n",
    "\n",
    "<p>some other important layers are:</p>\n",
    "<ul>\n",
    "    <li>Convolution layers – used for performing convolution,</li>\n",
    "    <li>Pooling layers – used for down sampling</li>\n",
    "    <li>Recurrent layers</li>\n",
    "    <li>Locally-connected, normalization, etc</li>\n",
    "</ul>    "
   ]
  },
  {
   "cell_type": "code",
   "execution_count": 1,
   "metadata": {},
   "outputs": [
    {
     "name": "stderr",
     "output_type": "stream",
     "text": [
      "Using TensorFlow backend.\n"
     ]
    }
   ],
   "source": [
    "from keras.layers import Dense,Activation"
   ]
  },
  {
   "cell_type": "markdown",
   "metadata": {},
   "source": [
    "<h6>Keras models:</h6>\n",
    "\n",
    "keras provide 2 ways to define a model\n",
    "<ul>\n",
    "    <li>Sequential: used for stacking up layers – Most commonly used.</li>\n",
    "    <li>Functional API: used for designing complex model architectures like models with multiple-outputs, shared layers etc.</li>\n",
    "    \n",
    "    \n",
    "</ul>\n"
   ]
  },
  {
   "cell_type": "code",
   "execution_count": 2,
   "metadata": {},
   "outputs": [],
   "source": [
    "from keras.models import Sequential"
   ]
  },
  {
   "cell_type": "markdown",
   "metadata": {},
   "source": [
    "For creating a Sequential model\n",
    "<li>we can either pass the list of layers as an argument to the constructor </li>\n",
    "<li>add the layers sequentially using the model.add() function.</li>\n",
    "\n",
    "\n",
    "\n",
    "note:import layer and model before running the code given below"
   ]
  },
  {
   "cell_type": "code",
   "execution_count": 3,
   "metadata": {},
   "outputs": [
    {
     "name": "stdout",
     "output_type": "stream",
     "text": [
      "WARNING:tensorflow:From /home/ayu/.local/lib/python3.6/site-packages/tensorflow/python/framework/op_def_library.py:263: colocate_with (from tensorflow.python.framework.ops) is deprecated and will be removed in a future version.\n",
      "Instructions for updating:\n",
      "Colocations handled automatically by placer.\n"
     ]
    }
   ],
   "source": [
    "model = Sequential([Dense(10, input_dim=4), \n",
    "                    Activation('linear') ])"
   ]
  },
  {
   "cell_type": "code",
   "execution_count": 4,
   "metadata": {},
   "outputs": [],
   "source": [
    "model = Sequential()\n",
    "model.add(Dense(10, input_dim=2))\n",
    "model.add(Activation('linear'))"
   ]
  },
  {
   "cell_type": "markdown",
   "metadata": {},
   "source": [
    "<h1>Step 2: Compile the network</h1>\n",
    "<p>Compilation is always required after defining a model. This includes both before training it using an optimization scheme as well as loading a set of pre-trained weights from a save file. The reason is that the compilation step prepares an efficient representation of the network that is also required to make predictions on your hardware.<p>\n",
    "\n",
    "It is done via compile method. It receives 3 arguments.\n",
    "<ul>\n",
    "    <li>Optimizers:SDG,adam</li>\n",
    "    <li>A loss function:This is the objective that the model will try to minimize</li>\n",
    "    <li>A list of metrics:the most useful additional metric to collect is accuracy for classification problems. The metrics to collect are specified by name in an array.\n",
    "\n",
    "</li>\n",
    "    \n",
    "    \n",
    "</ul>"
   ]
  },
  {
   "cell_type": "code",
   "execution_count": 5,
   "metadata": {},
   "outputs": [],
   "source": [
    "#for mean square error regression problem\n",
    "model.compile(optimizer='rmsprop',\n",
    "              loss='mse')\n",
    "\n",
    "# For a binary classification problem class==2\n",
    "model.compile(optimizer='rmsprop',\n",
    "              loss='binary_crossentropy',\n",
    "              metrics=['accuracy'])\n",
    "\n",
    "# For a multi-class classification problem class>2\n",
    "model.compile(optimizer='rmsprop',\n",
    "              loss='categorical_crossentropy',\n",
    "              metrics=['accuracy'])\n",
    "\n"
   ]
  },
  {
   "cell_type": "markdown",
   "metadata": {},
   "source": [
    "<h1>Step 3:Fit the network</h1>\n",
    "\n",
    "<p>Keras models are trained on Numpy arrays of input data and labels.</p>\n",
    "\n",
    "\n",
    "The network is trained using the backpropagation algorithm\n",
    "\n",
    "One Epoch is when an ENTIRE dataset is passed forward and backward through the neural network only ONCE.\n",
    "Total number of training examples present in a single batch.\n",
    "Iterations is the number of batches needed to complete one epoch.\n",
    "\n",
    "\n",
    "\n",
    "\n",
    "\n",
    "\n",
    "-------------model.fit(trainFeatures, trainLabels, batch_size=4, epochs = 100)---------------"
   ]
  },
  {
   "cell_type": "markdown",
   "metadata": {},
   "source": [
    "<h1>Step 4 : Evaluate the network</h1>\n",
    "\n",
    "<p>The network can be evaluated on the training data, but this will not provide a useful indication of the performance of the network as a predictive model, as it has seen all of this data before.\n",
    "\n",
    "We can evaluate the performance of the network on a separate dataset, unseen during testing. This will provide an estimate of the performance of the network at making predictions for unseen data in the future.\n",
    "</p>\n",
    " \n",
    " \n",
    " ---------------------\tloss, accuracy = model.evaluate(X, y)--------------------\n",
    "\n"
   ]
  },
  {
   "cell_type": "markdown",
   "metadata": {},
   "source": [
    "<h1>Step 5: Make predictions</h1>\n",
    "   <p>Finally, once we are satisfied with the performance of our fit model, we can use it to make predictions on new data.</p>\n",
    "\n",
    "\n",
    "\n",
    "\n",
    "------------------------predictions = model.predict(x)----------------------"
   ]
  }
 ],
 "metadata": {
  "kernelspec": {
   "display_name": "Python 3",
   "language": "python",
   "name": "python3"
  },
  "language_info": {
   "codemirror_mode": {
    "name": "ipython",
    "version": 3
   },
   "file_extension": ".py",
   "mimetype": "text/x-python",
   "name": "python",
   "nbconvert_exporter": "python",
   "pygments_lexer": "ipython3",
   "version": "3.6.8"
  }
 },
 "nbformat": 4,
 "nbformat_minor": 2
}
